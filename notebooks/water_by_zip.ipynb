{
 "cells": [
  {
   "cell_type": "code",
   "execution_count": 1,
   "id": "d671497a-27d0-4f66-9f47-a7466aecb774",
   "metadata": {},
   "outputs": [],
   "source": [
    "#from shapely.geometry import Point\n",
    "import pandas as pd\n",
    "import geopandas as gpd\n",
    "import matplotlib.pyplot as plt\n",
    "import folium\n",
    "from folium.plugins import MarkerCluster\n",
    "from folium.plugins import FastMarkerCluster"
   ]
  },
  {
   "cell_type": "code",
   "execution_count": 2,
   "id": "f14df17d-a788-4ff2-a874-5efac10935b4",
   "metadata": {},
   "outputs": [
    {
     "name": "stdout",
     "output_type": "stream",
     "text": [
      "EPSG:4326\n"
     ]
    },
    {
     "data": {
      "text/html": [
       "<div>\n",
       "<style scoped>\n",
       "    .dataframe tbody tr th:only-of-type {\n",
       "        vertical-align: middle;\n",
       "    }\n",
       "\n",
       "    .dataframe tbody tr th {\n",
       "        vertical-align: top;\n",
       "    }\n",
       "\n",
       "    .dataframe thead th {\n",
       "        text-align: right;\n",
       "    }\n",
       "</style>\n",
       "<table border=\"1\" class=\"dataframe\">\n",
       "  <thead>\n",
       "    <tr style=\"text-align: right;\">\n",
       "      <th></th>\n",
       "      <th>zipcode</th>\n",
       "      <th>poname</th>\n",
       "      <th>created_date</th>\n",
       "      <th>objectid</th>\n",
       "      <th>globalid</th>\n",
       "      <th>created_user</th>\n",
       "      <th>last_edited_date</th>\n",
       "      <th>last_edited_user</th>\n",
       "      <th>geometry</th>\n",
       "    </tr>\n",
       "  </thead>\n",
       "  <tbody>\n",
       "    <tr>\n",
       "      <th>0</th>\n",
       "      <td>37015</td>\n",
       "      <td>ASHLAND CITY</td>\n",
       "      <td>None</td>\n",
       "      <td>21</td>\n",
       "      <td>{2AB8F204-63EE-49A4-A806-8E1DAE1C32AA}</td>\n",
       "      <td>None</td>\n",
       "      <td>None</td>\n",
       "      <td>None</td>\n",
       "      <td>MULTIPOLYGON (((-86.88867 36.28013, -86.88867 ...</td>\n",
       "    </tr>\n",
       "    <tr>\n",
       "      <th>1</th>\n",
       "      <td>37143</td>\n",
       "      <td>PEGRAM</td>\n",
       "      <td>None</td>\n",
       "      <td>23</td>\n",
       "      <td>{B142BE7A-6E4F-4325-95C5-A1C980D46F37}</td>\n",
       "      <td>None</td>\n",
       "      <td>None</td>\n",
       "      <td>None</td>\n",
       "      <td>MULTIPOLYGON (((-87.03553 36.08659, -87.03556 ...</td>\n",
       "    </tr>\n",
       "    <tr>\n",
       "      <th>2</th>\n",
       "      <td>37072</td>\n",
       "      <td>GOODLETTSVILLE</td>\n",
       "      <td>None</td>\n",
       "      <td>46</td>\n",
       "      <td>{FD866D5C-A196-4C6E-9CFF-A04FD08B1657}</td>\n",
       "      <td>None</td>\n",
       "      <td>None</td>\n",
       "      <td>None</td>\n",
       "      <td>MULTIPOLYGON (((-86.76191 36.39867, -86.76200 ...</td>\n",
       "    </tr>\n",
       "    <tr>\n",
       "      <th>3</th>\n",
       "      <td>37189</td>\n",
       "      <td>WHITES CREEK</td>\n",
       "      <td>None</td>\n",
       "      <td>50</td>\n",
       "      <td>{AD8029C0-DF92-4103-B4DF-A67EF4F502E1}</td>\n",
       "      <td>None</td>\n",
       "      <td>None</td>\n",
       "      <td>None</td>\n",
       "      <td>MULTIPOLYGON (((-86.84400 36.32689, -86.83591 ...</td>\n",
       "    </tr>\n",
       "    <tr>\n",
       "      <th>4</th>\n",
       "      <td>37015</td>\n",
       "      <td>ASHLAND CITY</td>\n",
       "      <td>None</td>\n",
       "      <td>20</td>\n",
       "      <td>{49D81E1C-5F08-414E-AED7-8C8F9714DD83}</td>\n",
       "      <td>None</td>\n",
       "      <td>None</td>\n",
       "      <td>None</td>\n",
       "      <td>MULTIPOLYGON (((-86.92773 36.28074, -86.92769 ...</td>\n",
       "    </tr>\n",
       "  </tbody>\n",
       "</table>\n",
       "</div>"
      ],
      "text/plain": [
       "  zipcode          poname created_date objectid  \\\n",
       "0   37015    ASHLAND CITY         None       21   \n",
       "1   37143          PEGRAM         None       23   \n",
       "2   37072  GOODLETTSVILLE         None       46   \n",
       "3   37189    WHITES CREEK         None       50   \n",
       "4   37015    ASHLAND CITY         None       20   \n",
       "\n",
       "                                 globalid created_user last_edited_date  \\\n",
       "0  {2AB8F204-63EE-49A4-A806-8E1DAE1C32AA}         None             None   \n",
       "1  {B142BE7A-6E4F-4325-95C5-A1C980D46F37}         None             None   \n",
       "2  {FD866D5C-A196-4C6E-9CFF-A04FD08B1657}         None             None   \n",
       "3  {AD8029C0-DF92-4103-B4DF-A67EF4F502E1}         None             None   \n",
       "4  {49D81E1C-5F08-414E-AED7-8C8F9714DD83}         None             None   \n",
       "\n",
       "  last_edited_user                                           geometry  \n",
       "0             None  MULTIPOLYGON (((-86.88867 36.28013, -86.88867 ...  \n",
       "1             None  MULTIPOLYGON (((-87.03553 36.08659, -87.03556 ...  \n",
       "2             None  MULTIPOLYGON (((-86.76191 36.39867, -86.76200 ...  \n",
       "3             None  MULTIPOLYGON (((-86.84400 36.32689, -86.83591 ...  \n",
       "4             None  MULTIPOLYGON (((-86.92773 36.28074, -86.92769 ...  "
      ]
     },
     "execution_count": 2,
     "metadata": {},
     "output_type": "execute_result"
    }
   ],
   "source": [
    "zipcodes = gpd.read_file('../data/zipcodes_2.geojson')\n",
    "print(zipcodes.crs)\n",
    "zipcodes.head()"
   ]
  },
  {
   "cell_type": "code",
   "execution_count": 3,
   "id": "6a37b296-aedf-48e2-b81f-d5c4ff51f07c",
   "metadata": {},
   "outputs": [
    {
     "data": {
      "text/plain": [
       "geopandas.geodataframe.GeoDataFrame"
      ]
     },
     "execution_count": 3,
     "metadata": {},
     "output_type": "execute_result"
    }
   ],
   "source": [
    "type(zipcodes)"
   ]
  },
  {
   "cell_type": "code",
   "execution_count": 4,
   "id": "dad23af8-8313-4cb9-9eed-57b51631d3cf",
   "metadata": {},
   "outputs": [
    {
     "data": {
      "text/html": [
       "<div>\n",
       "<style scoped>\n",
       "    .dataframe tbody tr th:only-of-type {\n",
       "        vertical-align: middle;\n",
       "    }\n",
       "\n",
       "    .dataframe tbody tr th {\n",
       "        vertical-align: top;\n",
       "    }\n",
       "\n",
       "    .dataframe thead th {\n",
       "        text-align: right;\n",
       "    }\n",
       "</style>\n",
       "<table border=\"1\" class=\"dataframe\">\n",
       "  <thead>\n",
       "    <tr style=\"text-align: right;\">\n",
       "      <th></th>\n",
       "      <th>zipcode</th>\n",
       "      <th>poname</th>\n",
       "      <th>geometry</th>\n",
       "    </tr>\n",
       "  </thead>\n",
       "  <tbody>\n",
       "    <tr>\n",
       "      <th>0</th>\n",
       "      <td>37015</td>\n",
       "      <td>ASHLAND CITY</td>\n",
       "      <td>MULTIPOLYGON (((-86.88867 36.28013, -86.88867 ...</td>\n",
       "    </tr>\n",
       "    <tr>\n",
       "      <th>1</th>\n",
       "      <td>37143</td>\n",
       "      <td>PEGRAM</td>\n",
       "      <td>MULTIPOLYGON (((-87.03553 36.08659, -87.03556 ...</td>\n",
       "    </tr>\n",
       "    <tr>\n",
       "      <th>2</th>\n",
       "      <td>37072</td>\n",
       "      <td>GOODLETTSVILLE</td>\n",
       "      <td>MULTIPOLYGON (((-86.76191 36.39867, -86.76200 ...</td>\n",
       "    </tr>\n",
       "    <tr>\n",
       "      <th>3</th>\n",
       "      <td>37189</td>\n",
       "      <td>WHITES CREEK</td>\n",
       "      <td>MULTIPOLYGON (((-86.84400 36.32689, -86.83591 ...</td>\n",
       "    </tr>\n",
       "    <tr>\n",
       "      <th>4</th>\n",
       "      <td>37015</td>\n",
       "      <td>ASHLAND CITY</td>\n",
       "      <td>MULTIPOLYGON (((-86.92773 36.28074, -86.92769 ...</td>\n",
       "    </tr>\n",
       "  </tbody>\n",
       "</table>\n",
       "</div>"
      ],
      "text/plain": [
       "  zipcode          poname                                           geometry\n",
       "0   37015    ASHLAND CITY  MULTIPOLYGON (((-86.88867 36.28013, -86.88867 ...\n",
       "1   37143          PEGRAM  MULTIPOLYGON (((-87.03553 36.08659, -87.03556 ...\n",
       "2   37072  GOODLETTSVILLE  MULTIPOLYGON (((-86.76191 36.39867, -86.76200 ...\n",
       "3   37189    WHITES CREEK  MULTIPOLYGON (((-86.84400 36.32689, -86.83591 ...\n",
       "4   37015    ASHLAND CITY  MULTIPOLYGON (((-86.92773 36.28074, -86.92769 ..."
      ]
     },
     "execution_count": 4,
     "metadata": {},
     "output_type": "execute_result"
    }
   ],
   "source": [
    "zipcodes = zipcodes[['zipcode','poname', 'geometry']]\n",
    "zipcodes.head()"
   ]
  },
  {
   "cell_type": "code",
   "execution_count": 5,
   "id": "20c31084-ea02-4139-a89e-42cb785264d0",
   "metadata": {},
   "outputs": [
    {
     "name": "stdout",
     "output_type": "stream",
     "text": [
      "(73, 10)\n"
     ]
    },
    {
     "data": {
      "text/html": [
       "<div>\n",
       "<style scoped>\n",
       "    .dataframe tbody tr th:only-of-type {\n",
       "        vertical-align: middle;\n",
       "    }\n",
       "\n",
       "    .dataframe tbody tr th {\n",
       "        vertical-align: top;\n",
       "    }\n",
       "\n",
       "    .dataframe thead th {\n",
       "        text-align: right;\n",
       "    }\n",
       "</style>\n",
       "<table border=\"1\" class=\"dataframe\">\n",
       "  <thead>\n",
       "    <tr style=\"text-align: right;\">\n",
       "      <th></th>\n",
       "      <th>the_geom</th>\n",
       "      <th>OBJECTID</th>\n",
       "      <th>LAT</th>\n",
       "      <th>NAME</th>\n",
       "      <th>LON</th>\n",
       "      <th>Location</th>\n",
       "      <th>Dog</th>\n",
       "      <th>FeatType</th>\n",
       "      <th>Cnt</th>\n",
       "      <th>ADA</th>\n",
       "    </tr>\n",
       "  </thead>\n",
       "  <tbody>\n",
       "    <tr>\n",
       "      <th>0</th>\n",
       "      <td>POINT (-86.89425345576078 36.26250455840148)</td>\n",
       "      <td>45921</td>\n",
       "      <td>-86.894253</td>\n",
       "      <td>Beaman Water Fountain</td>\n",
       "      <td>36.262505</td>\n",
       "      <td>NaN</td>\n",
       "      <td>Y</td>\n",
       "      <td>Fountain/Bottle filler/ADA</td>\n",
       "      <td>1</td>\n",
       "      <td>Y</td>\n",
       "    </tr>\n",
       "    <tr>\n",
       "      <th>1</th>\n",
       "      <td>POINT (-86.90622747033689 36.06089914863129)</td>\n",
       "      <td>45937</td>\n",
       "      <td>-86.906227</td>\n",
       "      <td>Edwin Nature Center Water Fountain</td>\n",
       "      <td>36.060899</td>\n",
       "      <td>Restrooms Breezeway</td>\n",
       "      <td>N</td>\n",
       "      <td>Bottle Filler/ADA</td>\n",
       "      <td>1</td>\n",
       "      <td>Y</td>\n",
       "    </tr>\n",
       "    <tr>\n",
       "      <th>2</th>\n",
       "      <td>POINT (-86.86727565917963 36.08310102493863)</td>\n",
       "      <td>45964</td>\n",
       "      <td>-86.867276</td>\n",
       "      <td>Percy Warner Belle Meade Gates Water Fountain</td>\n",
       "      <td>36.083101</td>\n",
       "      <td>Belle Meade Gates</td>\n",
       "      <td>Y</td>\n",
       "      <td>ADA Bowl</td>\n",
       "      <td>1</td>\n",
       "      <td>Y</td>\n",
       "    </tr>\n",
       "    <tr>\n",
       "      <th>3</th>\n",
       "      <td>POINT (-86.8637899391243 36.161795831166906)</td>\n",
       "      <td>45992</td>\n",
       "      <td>-86.863790</td>\n",
       "      <td>West Park Water Fountain</td>\n",
       "      <td>36.161796</td>\n",
       "      <td>Ballfield</td>\n",
       "      <td>N</td>\n",
       "      <td>Single with foot pedal</td>\n",
       "      <td>1</td>\n",
       "      <td>N</td>\n",
       "    </tr>\n",
       "    <tr>\n",
       "      <th>4</th>\n",
       "      <td>POINT (-86.84589094125035 36.151393836128406)</td>\n",
       "      <td>46012</td>\n",
       "      <td>-86.845891</td>\n",
       "      <td>Richland Park Water Fountain</td>\n",
       "      <td>36.151394</td>\n",
       "      <td>Playground</td>\n",
       "      <td>N</td>\n",
       "      <td>Single with foot pedal</td>\n",
       "      <td>1</td>\n",
       "      <td>N</td>\n",
       "    </tr>\n",
       "  </tbody>\n",
       "</table>\n",
       "</div>"
      ],
      "text/plain": [
       "                                        the_geom  OBJECTID        LAT  \\\n",
       "0   POINT (-86.89425345576078 36.26250455840148)     45921 -86.894253   \n",
       "1   POINT (-86.90622747033689 36.06089914863129)     45937 -86.906227   \n",
       "2   POINT (-86.86727565917963 36.08310102493863)     45964 -86.867276   \n",
       "3   POINT (-86.8637899391243 36.161795831166906)     45992 -86.863790   \n",
       "4  POINT (-86.84589094125035 36.151393836128406)     46012 -86.845891   \n",
       "\n",
       "                                            NAME        LON  \\\n",
       "0                          Beaman Water Fountain  36.262505   \n",
       "1             Edwin Nature Center Water Fountain  36.060899   \n",
       "2  Percy Warner Belle Meade Gates Water Fountain  36.083101   \n",
       "3                       West Park Water Fountain  36.161796   \n",
       "4                   Richland Park Water Fountain  36.151394   \n",
       "\n",
       "              Location Dog                    FeatType  Cnt ADA  \n",
       "0                  NaN   Y  Fountain/Bottle filler/ADA    1   Y  \n",
       "1  Restrooms Breezeway   N           Bottle Filler/ADA    1   Y  \n",
       "2    Belle Meade Gates   Y                    ADA Bowl    1   Y  \n",
       "3            Ballfield   N      Single with foot pedal    1   N  \n",
       "4           Playground   N      Single with foot pedal    1   N  "
      ]
     },
     "execution_count": 5,
     "metadata": {},
     "output_type": "execute_result"
    }
   ],
   "source": [
    "public_water = pd.read_csv('../data/water_csv.csv')\n",
    "print(public_water.shape)\n",
    "public_water.head(5)"
   ]
  },
  {
   "cell_type": "code",
   "execution_count": 6,
   "id": "705a5c84-22d1-420c-a764-72ab81e439df",
   "metadata": {},
   "outputs": [
    {
     "name": "stdout",
     "output_type": "stream",
     "text": [
      "(73, 6)\n"
     ]
    },
    {
     "data": {
      "text/html": [
       "<div>\n",
       "<style scoped>\n",
       "    .dataframe tbody tr th:only-of-type {\n",
       "        vertical-align: middle;\n",
       "    }\n",
       "\n",
       "    .dataframe tbody tr th {\n",
       "        vertical-align: top;\n",
       "    }\n",
       "\n",
       "    .dataframe thead th {\n",
       "        text-align: right;\n",
       "    }\n",
       "</style>\n",
       "<table border=\"1\" class=\"dataframe\">\n",
       "  <thead>\n",
       "    <tr style=\"text-align: right;\">\n",
       "      <th></th>\n",
       "      <th>the_geom</th>\n",
       "      <th>NAME</th>\n",
       "      <th>Location</th>\n",
       "      <th>Dog</th>\n",
       "      <th>FeatType</th>\n",
       "      <th>ADA</th>\n",
       "    </tr>\n",
       "  </thead>\n",
       "  <tbody>\n",
       "    <tr>\n",
       "      <th>0</th>\n",
       "      <td>POINT (-86.89425345576078 36.26250455840148)</td>\n",
       "      <td>Beaman Water Fountain</td>\n",
       "      <td>NaN</td>\n",
       "      <td>Y</td>\n",
       "      <td>Fountain/Bottle filler/ADA</td>\n",
       "      <td>Y</td>\n",
       "    </tr>\n",
       "    <tr>\n",
       "      <th>1</th>\n",
       "      <td>POINT (-86.90622747033689 36.06089914863129)</td>\n",
       "      <td>Edwin Nature Center Water Fountain</td>\n",
       "      <td>Restrooms Breezeway</td>\n",
       "      <td>N</td>\n",
       "      <td>Bottle Filler/ADA</td>\n",
       "      <td>Y</td>\n",
       "    </tr>\n",
       "    <tr>\n",
       "      <th>2</th>\n",
       "      <td>POINT (-86.86727565917963 36.08310102493863)</td>\n",
       "      <td>Percy Warner Belle Meade Gates Water Fountain</td>\n",
       "      <td>Belle Meade Gates</td>\n",
       "      <td>Y</td>\n",
       "      <td>ADA Bowl</td>\n",
       "      <td>Y</td>\n",
       "    </tr>\n",
       "    <tr>\n",
       "      <th>3</th>\n",
       "      <td>POINT (-86.8637899391243 36.161795831166906)</td>\n",
       "      <td>West Park Water Fountain</td>\n",
       "      <td>Ballfield</td>\n",
       "      <td>N</td>\n",
       "      <td>Single with foot pedal</td>\n",
       "      <td>N</td>\n",
       "    </tr>\n",
       "    <tr>\n",
       "      <th>4</th>\n",
       "      <td>POINT (-86.84589094125035 36.151393836128406)</td>\n",
       "      <td>Richland Park Water Fountain</td>\n",
       "      <td>Playground</td>\n",
       "      <td>N</td>\n",
       "      <td>Single with foot pedal</td>\n",
       "      <td>N</td>\n",
       "    </tr>\n",
       "  </tbody>\n",
       "</table>\n",
       "</div>"
      ],
      "text/plain": [
       "                                        the_geom  \\\n",
       "0   POINT (-86.89425345576078 36.26250455840148)   \n",
       "1   POINT (-86.90622747033689 36.06089914863129)   \n",
       "2   POINT (-86.86727565917963 36.08310102493863)   \n",
       "3   POINT (-86.8637899391243 36.161795831166906)   \n",
       "4  POINT (-86.84589094125035 36.151393836128406)   \n",
       "\n",
       "                                            NAME             Location Dog  \\\n",
       "0                          Beaman Water Fountain                  NaN   Y   \n",
       "1             Edwin Nature Center Water Fountain  Restrooms Breezeway   N   \n",
       "2  Percy Warner Belle Meade Gates Water Fountain    Belle Meade Gates   Y   \n",
       "3                       West Park Water Fountain            Ballfield   N   \n",
       "4                   Richland Park Water Fountain           Playground   N   \n",
       "\n",
       "                     FeatType ADA  \n",
       "0  Fountain/Bottle filler/ADA   Y  \n",
       "1           Bottle Filler/ADA   Y  \n",
       "2                    ADA Bowl   Y  \n",
       "3      Single with foot pedal   N  \n",
       "4      Single with foot pedal   N  "
      ]
     },
     "execution_count": 6,
     "metadata": {},
     "output_type": "execute_result"
    }
   ],
   "source": [
    "public_water = public_water[['the_geom','NAME', 'Location','Dog','FeatType','ADA']]\n",
    "print(public_water.shape)\n",
    "public_water.head()"
   ]
  },
  {
   "cell_type": "code",
   "execution_count": 9,
   "id": "d2616167-5fba-461b-8798-74e0c3c86ea4",
   "metadata": {},
   "outputs": [
    {
     "data": {
      "text/plain": [
       "<Axes: >"
      ]
     },
     "execution_count": 9,
     "metadata": {},
     "output_type": "execute_result"
    },
    {
     "data": {
      "image/png": "[encoded data removed]",
      "text/plain": [
       "<Figure size 640x480 with 1 Axes>"
      ]
     },
     "metadata": {},
     "output_type": "display_data"
    }
   ],
   "source": [
    "zipcodes.plot()"
   ]
  },
  {
   "cell_type": "code",
   "execution_count": 10,
   "id": "a0a59935-b005-4494-bba7-2caec7419b72",
   "metadata": {},
   "outputs": [
    {
     "ename": "SyntaxError",
     "evalue": "positional argument follows keyword argument (295675557.py, line 7)",
     "output_type": "error",
     "traceback": [
      "\u001b[1;36m  Cell \u001b[1;32mIn[10], line 7\u001b[1;36m\u001b[0m\n\u001b[1;33m    cmap = 'Greens')\u001b[0m\n\u001b[1;37m                   ^\u001b[0m\n\u001b[1;31mSyntaxError\u001b[0m\u001b[1;31m:\u001b[0m positional argument follows keyword argument\n"
     ]
    }
   ],
   "source": [
    "leg_kwds = {'title': 'ZIP codes', 'loc':'upper left',\n",
    "            'bbox_to_anchor': (1,1.03), 'ncol':2}\n",
    "\n",
    "zipcodes.plot(column = 'zipcode', figsize(10,10),\n",
    "              edgecolor = 'black',\n",
    "              legend = True, legend_kwds = leg_kwds,\n",
    "              cmap = 'Greens')\n",
    "plt.show()"
   ]
  },
  {
   "cell_type": "code",
   "execution_count": null,
   "id": "a8e9cdb6-f8b9-4f81-9b40-fcfe5e273b1b",
   "metadata": {},
   "outputs": [],
   "source": []
  }
 ],
 "metadata": {
  "kernelspec": {
   "display_name": "Python 3 (ipykernel)",
   "language": "python",
   "name": "python3"
  },
  "language_info": {
   "codemirror_mode": {
    "name": "ipython",
    "version": 3
   },
   "file_extension": ".py",
   "mimetype": "text/x-python",
   "name": "python",
   "nbconvert_exporter": "python",
   "pygments_lexer": "ipython3",
   "version": "3.10.13"
  }
 },
 "nbformat": 4,
 "nbformat_minor": 5
}
